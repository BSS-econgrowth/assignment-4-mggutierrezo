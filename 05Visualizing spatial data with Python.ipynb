{
 "cells": [
  {
   "cell_type": "code",
   "execution_count": null,
   "metadata": {},
   "outputs": [],
   "source": [
    "%matplotlib inline\n",
    "\n",
    "import pandas as pd\n",
    "import geopandas\n",
    "\n",
    "import matplotlib.pyplot as plt"
   ]
  },
  {
   "cell_type": "code",
   "execution_count": null,
   "metadata": {},
   "outputs": [],
   "source": [
    "countries = geopandas.read_file(\"zip://./data/ne_110m_admin_0_countries.zip\")\n",
    "cities = geopandas.read_file(\"zip://./data/ne_110m_populated_places.zip\")\n",
    "rivers = geopandas.read_file(\"zip://./data/ne_50m_rivers_lake_centerlines.zip\")"
   ]
  },
  {
   "cell_type": "code",
   "execution_count": null,
   "metadata": {},
   "outputs": [],
   "source": [
    "countries.plot()\n",
    "countries.plot(figsize=(15, 15))\n",
    "ax = countries.plot(figsize=(15, 15))\n",
    "ax.set_axis_off()\n",
    "countries = countries[(countries['pop_est'] >0 ) & (countries['name'] != \"Antarctica\")]\n",
    "countries['gdp_per_cap'] = countries['gdp_md_est'] / countries['pop_est'] * 100\n",
    "ax = countries.plot(figsize=(15, 15), column='gdp_per_cap')\n",
    "ax.set_axis_off()\n",
    "ax = countries.plot(figsize=(15, 15), column='gdp_per_cap', scheme='quantiles', legend=True)\n",
    "ax.set_axis_off()"
   ]
  },
  {
   "cell_type": "code",
   "execution_count": null,
   "metadata": {},
   "outputs": [],
   "source": [
    "ax = countries.plot(figsize=(15, 15))\n",
    "cities.plot(ax=ax, color='red', markersize=10)\n",
    "ax.set_axis_off()\n",
    "ax = countries.plot(edgecolor='k', facecolor='none', figsize=(15, 10))\n",
    "rivers.plot(ax=ax)\n",
    "cities.plot(ax=ax, color='C1')\n",
    "ax.set(xlim=(-20, 60), ylim=(-40, 40))"
   ]
  },
  {
   "cell_type": "code",
   "execution_count": null,
   "metadata": {},
   "outputs": [],
   "source": [
    "# selecting the cities in Europe\n",
    "cities_europe = cities[cities.within(countries[countries['continent'] == 'Europe'].unary_union)]\n",
    "# converting to WebMercator\n",
    "cities_europe2 = cities_europe.to_crs(epsg=3857)\n",
    "ax = cities_europe2.plot()\n",
    "import contextily\n",
    "ax = cities_europe2.plot(figsize=(10, 6))\n",
    "contextily.add_basemap(ax)\n",
    "ax = cities_europe2.plot(figsize=(10, 6))\n",
    "contextily.add_basemap(ax, url=contextily.providers.Stamen.TonerLite"
   ]
  },
  {
   "cell_type": "code",
   "execution_count": null,
   "metadata": {},
   "outputs": [],
   "source": [
    "import geoplot\n",
    "import geoplot.crs as gcrs\n",
    "fig, ax = plt.subplots(figsize=(10, 10), subplot_kw={\n",
    "    'projection': gcrs.Orthographic(central_latitude=40.7128, central_longitude=-74.0059)\n",
    "})\n",
    "geoplot.choropleth(countries, hue='gdp_per_cap', projection=gcrs.Orthographic(), ax=ax,\n",
    "                   cmap='magma', linewidth=0.5, edgecolor='white')\n",
    "ax.set_global()\n",
    "ax.outline_patch.set_visible(True)\n",
    "#ax.coastlines()"
   ]
  },
  {
   "cell_type": "code",
   "execution_count": null,
   "metadata": {},
   "outputs": [],
   "source": [
    "\n",
    "from cartopy import crs as ccrs\n"
   ]
  },
  {
   "cell_type": "code",
   "execution_count": null,
   "metadata": {},
   "outputs": [],
   "source": [
    "# Define the CartoPy CRS object.\n",
    "crs = ccrs.AlbersEqualArea()\n",
    "\n",
    "# This can be converted into a `proj4` string/dict compatible with GeoPandas\n",
    "crs_proj4 = crs.proj4_init\n",
    "countries_ae = countries.to_crs(crs_proj4)"
   ]
  },
  {
   "cell_type": "code",
   "execution_count": null,
   "metadata": {},
   "outputs": [],
   "source": [
    "# Here's what the plot looks like in GeoPandas\n",
    "countries_ae.plot()"
   ]
  },
  {
   "cell_type": "code",
   "execution_count": null,
   "metadata": {},
   "outputs": [],
   "source": [
    "# Here's what the plot looks like when plotting with cartopy\n",
    "fig, ax = plt.subplots(subplot_kw={'projection': crs})\n",
    "ax.add_geometries(countries_ae['geometry'], crs=crs)\n",
    "\n",
    "# Here's what the plot looks like when plotting with cartopy and geopandas combined\n",
    "fig, ax = plt.subplots(subplot_kw={'projection': crs})\n",
    "countries_ae['geometry'].plot(ax=ax)"
   ]
  },
  {
   "cell_type": "code",
   "execution_count": null,
   "metadata": {},
   "outputs": [],
   "source": [
    "import ipyleaflet\n",
    "\n",
    "layer = ipyleaflet.GeoJSON(data=cities.__geo_interface__)\n",
    "m.add_layer(layer)\n",
    "m\n",
    "m = ipyleaflet.Map(center=[48.8566, 2.3429], zoom=3)\n",
    "geo_data = ipyleaflet.GeoData(\n",
    "    geo_dataframe = countries,\n",
    "    style={'color': 'black', 'fillColor': '#3366cc', 'opacity':0.05, 'weight':1.9, 'dashArray':'2', 'fillOpacity':0.6},\n",
    "    hover_style={'fillColor': 'red' , 'fillOpacity': 0.2},\n",
    "    name = 'Countries')\n",
    "m.add_layer(geo_data)\n",
    "m\n",
    "import folium"
   ]
  },
  {
   "cell_type": "code",
   "execution_count": null,
   "metadata": {},
   "outputs": [],
   "source": [
    "m = folium.Map([48.8566, 2.3429], zoom_start=6, tiles=\"OpenStreetMap\")\n",
    "folium.GeoJson(countries).add_to(m)\n",
    "folium.GeoJson(cities).add_to(m)\n",
    "m\n",
    "m = folium.Map([0, 0], zoom_start=1)\n",
    "folium.Choropleth(geo_data=countries, data=countries, columns=['iso_a3', 'gdp_per_cap'],\n",
    "             key_on='feature.properties.iso_a3', fill_color='BuGn', highlight=True).add_to(m)\n",
    "m"
   ]
  },
  {
   "cell_type": "code",
   "execution_count": null,
   "metadata": {},
   "outputs": [],
   "source": []
  }
 ],
 "metadata": {
  "kernelspec": {
   "display_name": "Python 3",
   "language": "python",
   "name": "python3"
  },
  "language_info": {
   "codemirror_mode": {
    "name": "ipython",
    "version": 3
   },
   "file_extension": ".py",
   "mimetype": "text/x-python",
   "name": "python",
   "nbconvert_exporter": "python",
   "pygments_lexer": "ipython3",
   "version": "3.7.6"
  }
 },
 "nbformat": 4,
 "nbformat_minor": 4
}
